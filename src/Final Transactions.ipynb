{
 "cells": [
  {
   "cell_type": "code",
   "execution_count": null,
   "id": "ae81048c",
   "metadata": {},
   "outputs": [],
   "source": [
    "import pandas as pd\n",
    "import numpy as np\n",
    "import pickle\n",
    "from pytorch_forecasting import TimeSeriesDataSet, TemporalFusionTransformer, QuantileLoss, GroupNormalizer, Baseline, MAE, SMAPE\n",
    "from pytorch_forecasting.models.temporal_fusion_transformer.tuning import optimize_hyperparameters\n",
    "import lightning.pytorch as pl\n",
    "from lightning.pytorch import Trainer\n",
    "from lightning.pytorch.tuner import Tuner\n",
    "import pytorch_optimizer\n",
    "import matplotlib\n",
    "from lightning.pytorch.callbacks import EarlyStopping, LearningRateMonitor\n",
    "from lightning.pytorch.loggers import TensorBoardLogger\n",
    "from sklearn import precision_score, recall_score, f1_score"
   ]
  },
  {
   "cell_type": "code",
   "execution_count": null,
   "id": "9cbc6355",
   "metadata": {},
   "outputs": [],
   "source": [
    "content = pd.read_csv('data/Final Transactions.csv')\n",
    "display(content)"
   ]
  },
  {
   "cell_type": "code",
   "execution_count": null,
   "id": "a0031da6",
   "metadata": {},
   "outputs": [],
   "source": [
    "content['CUSTOMER_ID'].nunique()"
   ]
  },
  {
   "cell_type": "code",
   "execution_count": null,
   "id": "14b59e93",
   "metadata": {},
   "outputs": [],
   "source": [
    "content.dropna(subset=[\"CUSTOMER_ID\"], inplace=True)\n",
    "content.drop(['Count'], axis=1,inplace=True)\n",
    "print(len(content))"
   ]
  },
  {
   "cell_type": "code",
   "execution_count": null,
   "id": "0cdc747b",
   "metadata": {},
   "outputs": [],
   "source": [
    "content['TX_DATETIME'] = pd.to_datetime(content['TX_DATETIME'])\n",
    "content['CUSTOMER_ID'] = content['CUSTOMER_ID'].astype('str')\n",
    "content['TERMINAL_ID'] = content['TERMINAL_ID'].astype('str')\n",
    "content.sort_values(by=['CUSTOMER_ID'], kind='mergesort')\n",
    "content = content.sort_values(by='TX_DATETIME', kind='mergesort', ascending=True).reset_index(drop=True)\n",
    "content.drop(['TX_TIME_SECONDS', 'TX_TIME_DAYS'], axis=1,inplace=True)\n",
    "content[\"time_idx\"] = content.groupby(\"CUSTOMER_ID\").cumcount()\n",
    "display(content)"
   ]
  },
  {
   "cell_type": "code",
   "execution_count": null,
   "id": "2d48881a",
   "metadata": {},
   "outputs": [],
   "source": [
    "content[\"TX_FRAUD\"] = content[\"TX_FRAUD\"].astype(\"float32\")\n",
    "content[\"TX_AMOUNT\"] = content[\"TX_AMOUNT\"].astype(\"float32\")\n",
    "content[\"TX_FRAUD_SCENARIO\"] = content[\"TX_FRAUD_SCENARIO\"].astype(\"float32\")"
   ]
  },
  {
   "cell_type": "code",
   "execution_count": null,
   "id": "c596b4a2",
   "metadata": {},
   "outputs": [],
   "source": [
    "#groupNorm = GroupNormalizer(groups=[\"CUSTOMER_ID\"], transformation=\"softplus\")\n",
    "#groupNorm.fit(content[\"TX_FRAUD\"], content[\"CUSTOMER_ID\"])"
   ]
  },
  {
   "cell_type": "code",
   "execution_count": null,
   "id": "bc1016ed",
   "metadata": {},
   "outputs": [],
   "source": [
    "trainDataList = []\n",
    "valDataList = []\n",
    "count = 0\n",
    "groupCount = 0\n",
    "for customerID, group in content.groupby('CUSTOMER_ID'):\n",
    "    groupSorted = group.sort_values('TX_DATETIME')\n",
    "    numTransactions = len(groupSorted)\n",
    "\n",
    "    if numTransactions >= 200:\n",
    "        splitIdx = int(numTransactions * 0.8)\n",
    "        trainDataList.append(groupSorted.iloc[:splitIdx])\n",
    "        valDataList.append(groupSorted.iloc[splitIdx:])\n",
    "        count+=1\n",
    "        groupCount += len(group)\n",
    "print(count)\n",
    "print(groupCount)\n",
    "trainData = pd.concat(trainDataList, ignore_index=True)\n",
    "valData = pd.concat(valDataList, ignore_index=True)\n",
    "trainData[\"time_idx\"] = trainData.groupby('CUSTOMER_ID').cumcount()\n",
    "valData[\"time_idx\"] = valData.groupby('CUSTOMER_ID').cumcount()"
   ]
  },
  {
   "cell_type": "code",
   "execution_count": null,
   "id": "73d77da3",
   "metadata": {},
   "outputs": [],
   "source": [
    "maxEncoderLength = 200\n",
    "maxPredLength = 3\n",
    "training = TimeSeriesDataSet( \n",
    "    trainData,\n",
    "    time_idx='time_idx',\n",
    "    target='TX_AMOUNT',\n",
    "    group_ids=['CUSTOMER_ID'],\n",
    "    static_categoricals=['CUSTOMER_ID','TERMINAL_ID'],\n",
    "    time_varying_unknown_reals=['TX_AMOUNT'],\n",
    "    max_encoder_length=maxEncoderLength,\n",
    "    max_prediction_length=maxPredLength,\n",
    "    target_normalizer=GroupNormalizer(groups=[\"CUSTOMER_ID\"]),\n",
    "    add_relative_time_idx=True,\n",
    "    add_target_scales=True,\n",
    "    add_encoder_length=True,\n",
    ")"
   ]
  },
  {
   "cell_type": "code",
   "execution_count": null,
   "id": "5a1a2410",
   "metadata": {},
   "outputs": [],
   "source": [
    "batchSize = 128\n",
    "trainDataloader = training.to_dataloader(\n",
    "    train=True, batch_size=batchSize, num_workers = 2, persistent_workers=True,\n",
    ")\n",
    "validation = TimeSeriesDataSet.from_dataset(\n",
    "    training, valData, predict=True, stop_randomization=True\n",
    ")\n",
    "valDataloader = validation.to_dataloader(\n",
    "    train=False,batch_size=batchSize*10, num_workers=2, persistent_workers=True,\n",
    ")\n",
    "pl.seed_everything(42)\n",
    "trainer = pl.Trainer(\n",
    "    accelerator=\"auto\",\n",
    "    gradient_clip_val=0.1,\n",
    ")\n",
    "TFT = TemporalFusionTransformer.from_dataset(\n",
    "    training,\n",
    "    learning_rate = 0.03,\n",
    "    hidden_size=8,\n",
    "    attention_head_size=3,\n",
    "    dropout=0.1,\n",
    "    hidden_continuous_size=8,\n",
    "    loss=QuantileLoss(),\n",
    "    optimizer=\"ranger\",\n",
    ")"
   ]
  },
  {
   "cell_type": "code",
   "execution_count": null,
   "id": "44e1a95d",
   "metadata": {},
   "outputs": [],
   "source": [
    "res = Tuner(trainer).lr_find(\n",
    "    TFT,\n",
    "    train_dataloaders=trainDataloader,\n",
    "    val_dataloaders=valDataloader,\n",
    "    max_lr=10.0,\n",
    "    min_lr=1e-6\n",
    ")\n",
    "print(f\"suggested learning rate: {res.suggestion()}\")\n",
    "fig = res.plot(show=True, suggest=True)\n",
    "fig.show()"
   ]
  },
  {
   "cell_type": "code",
   "execution_count": null,
   "id": "3a4e3c43",
   "metadata": {},
   "outputs": [],
   "source": [
    "earlyStopper = EarlyStopping(\n",
    "    monitor=\"val_loss\", min_delta=1e-4, patience=10, verbose=False, mode=\"min\"\n",
    ")\n",
    "learningRateLogger = LearningRateMonitor()\n",
    "logger = TensorBoardLogger(save_dir=\"lightning_logs\", name=\"Model\")\n",
    "\n",
    "trainer = pl.Trainer(\n",
    "    max_epochs=50,\n",
    "    accelerator=\"auto\",\n",
    "    enable_model_summary=True,\n",
    "    gradient_clip_val=0.1,\n",
    "    limit_train_batches=50,\n",
    "    callbacks=[learningRateLogger, earlyStopper],\n",
    "    logger=logger,\n",
    ")\n",
    "biggerTFT = TemporalFusionTransformer.from_dataset(\n",
    "    training,\n",
    "    learning_rate=0.02,\n",
    "    hidden_size=40,\n",
    "    attention_head_size=3,\n",
    "    dropout=0.1,\n",
    "    hidden_continuous_size=38,\n",
    "    loss=QuantileLoss(),\n",
    "    log_interval=10,\n",
    "    optimizer=\"ranger\",\n",
    "    reduce_on_plateau_patience=4,\n",
    ")\n",
    "print(f\"Number of parameters in network: {biggerTFT.size() / 1e3:.1f}k\")"
   ]
  },
  {
   "cell_type": "code",
   "execution_count": null,
   "id": "5f6288e4",
   "metadata": {},
   "outputs": [],
   "source": [
    "trainer.fit(\n",
    "    biggerTFT,\n",
    "    train_dataloaders=trainDataloader,\n",
    "    val_dataloaders=valDataloader,\n",
    ")"
   ]
  },
  {
   "cell_type": "code",
   "execution_count": null,
   "id": "08b3f2c6",
   "metadata": {},
   "outputs": [],
   "source": [
    "#study = optimize_hyperparameters( \n",
    "#    trainDataloader,\n",
    "#    valDataloader,\n",
    "#    model_path=\"optunaTest\",\n",
    "#    n_trials=200,\n",
    "#    max_epochs=50,\n",
    "#    gradient_clip_val_range=(0.01,1.0),\n",
    "#    hidden_size_range=(8, 128),\n",
    "#    attention_head_size_range=(1,4),\n",
    "#    learning_rate_range=(0.001,0.1),\n",
    "#    dropout_range=(0.1,0.3),\n",
    "#    trainer_kwargs=dict(limit_train_batches=30),\n",
    "#    reduce_on_plateau_patience=4,\n",
    "#    use_learning_rate_finder=False,\n",
    "#)\n",
    "#\n",
    "#with open(\"testStudy.pkl\", \"wb\") as fout:\n",
    "#    pickle.dump(study,fout)\n",
    "#\n",
    "#print(study.best_trial.params)\n"
   ]
  },
  {
   "cell_type": "code",
   "execution_count": null,
   "id": "8b9ed8a9",
   "metadata": {},
   "outputs": [],
   "source": [
    "bestPath = trainer.checkpoint_callback.best_model_path\n",
    "bestTFT = TemporalFusionTransformer.load_from_checkpoint(bestPath)\n"
   ]
  },
  {
   "cell_type": "code",
   "execution_count": null,
   "id": "7746f3e2",
   "metadata": {},
   "outputs": [],
   "source": [
    "baselinePrediction = Baseline().predict(valDataloader, return_y=True)\n",
    "MAE()(baselinePrediction.output, baselinePrediction.y)"
   ]
  },
  {
   "cell_type": "code",
   "execution_count": null,
   "id": "71bfc08c",
   "metadata": {},
   "outputs": [],
   "source": [
    "predictions = bestTFT.predict(\n",
    "    valDataloader, return_y=True, trainer_kwargs=dict(accelerator=\"auto\")\n",
    ")\n",
    "MAE()(predictions.output, predictions.y)\n"
   ]
  },
  {
   "cell_type": "code",
   "execution_count": null,
   "id": "cfd0973d",
   "metadata": {},
   "outputs": [],
   "source": [
    "#Plot attention and results :)\n",
    "rawPredictions = bestTFT.predict(\n",
    "    valDataloader, mode=\"raw\", return_x=True, trainer_kwargs=dict(accelerator=\"auto\")\n",
    ")\n",
    "for idx in range(10):\n",
    "    bestTFT.plot_prediction(\n",
    "        rawPredictions.x, rawPredictions.output, idx=idx, add_loss_to_title=True\n",
    "    )"
   ]
  },
  {
   "cell_type": "code",
   "execution_count": null,
   "id": "5332cc30",
   "metadata": {},
   "outputs": [],
   "source": [
    "#Graphing worst performing portions\n",
    "meanLosses = SMAPE(reduction=\"none\").loss(predictions.output, predictions.y[0]).mean(1)\n",
    "indices = meanLosses.argsort(descending=True)\n",
    "for idx in range(10):\n",
    "    bestTFT.plot_prediction(\n",
    "        rawPredictions.x,\n",
    "        rawPredictions.output,\n",
    "        idx=indices[idx],\n",
    "        add_loss_to_title=SMAPE(quantiles=bestTFT.loss.quantiles),\n",
    "    )"
   ]
  },
  {
   "cell_type": "code",
   "execution_count": null,
   "id": "02a633a9",
   "metadata": {},
   "outputs": [],
   "source": [
    "#Actual results vs predicted\n",
    "predictionsVsReality = bestTFT.calculate_prediction_actual_by_variable(\n",
    "    predictions.x, predictions.output\n",
    ")\n",
    "bestTFT.plot_prediction_actual_by_variable(predictionsVsReality)"
   ]
  },
  {
   "cell_type": "code",
   "execution_count": null,
   "id": "8dc4a26d",
   "metadata": {},
   "outputs": [],
   "source": [
    "#Prediction on subsets of data\n",
    "#Predict on new data and define covariates "
   ]
  },
  {
   "cell_type": "code",
   "execution_count": null,
   "id": "cbba288d",
   "metadata": {},
   "outputs": [],
   "source": [
    "interpretation = bestTFT.interpret_output(rawPredictions.output, reduction=\"sum\")\n",
    "bestTFT.plot_interpretation(interpretation)"
   ]
  }
 ],
 "metadata": {
  "kernelspec": {
   "display_name": "venv",
   "language": "python",
   "name": "python3"
  },
  "language_info": {
   "codemirror_mode": {
    "name": "ipython",
    "version": 3
   },
   "file_extension": ".py",
   "mimetype": "text/x-python",
   "name": "python",
   "nbconvert_exporter": "python",
   "pygments_lexer": "ipython3",
   "version": "3.11.8"
  }
 },
 "nbformat": 4,
 "nbformat_minor": 5
}
