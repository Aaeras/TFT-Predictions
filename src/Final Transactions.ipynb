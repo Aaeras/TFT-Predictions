{
 "cells": [
  {
   "cell_type": "code",
   "execution_count": 25,
   "id": "ae81048c",
   "metadata": {},
   "outputs": [],
   "source": [
    "import pandas as pd\n",
    "import numpy as np\n",
    "import pickle\n",
    "from pytorch_forecasting import TimeSeriesDataSet, TemporalFusionTransformer, QuantileLoss, GroupNormalizer\n",
    "from pytorch_forecasting.models.temporal_fusion_transformer.tuning import optimize_hyperparameters\n",
    "import lightning.pytorch as pl\n",
    "from lightning.pytorch import Trainer\n",
    "from lightning.pytorch.tuner import Tuner\n",
    "import pytorch_optimizer\n",
    "import matplotlib\n",
    "from lightning.pytorch.callbacks import EarlyStopping, LearningRateMonitor\n",
    "from lightning.pytorch.loggers import TensorBoardLogger"
   ]
  },
  {
   "cell_type": "code",
   "execution_count": 26,
   "id": "9cbc6355",
   "metadata": {},
   "outputs": [
    {
     "data": {
      "text/html": [
       "<div>\n",
       "<style scoped>\n",
       "    .dataframe tbody tr th:only-of-type {\n",
       "        vertical-align: middle;\n",
       "    }\n",
       "\n",
       "    .dataframe tbody tr th {\n",
       "        vertical-align: top;\n",
       "    }\n",
       "\n",
       "    .dataframe thead th {\n",
       "        text-align: right;\n",
       "    }\n",
       "</style>\n",
       "<table border=\"1\" class=\"dataframe\">\n",
       "  <thead>\n",
       "    <tr style=\"text-align: right;\">\n",
       "      <th></th>\n",
       "      <th>Count</th>\n",
       "      <th>TRANSACTION_ID</th>\n",
       "      <th>TX_DATETIME</th>\n",
       "      <th>CUSTOMER_ID</th>\n",
       "      <th>TERMINAL_ID</th>\n",
       "      <th>TX_AMOUNT</th>\n",
       "      <th>TX_TIME_SECONDS</th>\n",
       "      <th>TX_TIME_DAYS</th>\n",
       "      <th>TX_FRAUD</th>\n",
       "      <th>TX_FRAUD_SCENARIO</th>\n",
       "    </tr>\n",
       "  </thead>\n",
       "  <tbody>\n",
       "    <tr>\n",
       "      <th>0</th>\n",
       "      <td>0</td>\n",
       "      <td>0</td>\n",
       "      <td>2023-01-01 00:00:31</td>\n",
       "      <td>596</td>\n",
       "      <td>3156</td>\n",
       "      <td>533.07</td>\n",
       "      <td>31</td>\n",
       "      <td>0</td>\n",
       "      <td>0</td>\n",
       "      <td>0</td>\n",
       "    </tr>\n",
       "    <tr>\n",
       "      <th>1</th>\n",
       "      <td>1</td>\n",
       "      <td>1</td>\n",
       "      <td>2023-01-01 00:02:10</td>\n",
       "      <td>4961</td>\n",
       "      <td>3412</td>\n",
       "      <td>808.56</td>\n",
       "      <td>130</td>\n",
       "      <td>0</td>\n",
       "      <td>0</td>\n",
       "      <td>0</td>\n",
       "    </tr>\n",
       "    <tr>\n",
       "      <th>2</th>\n",
       "      <td>2</td>\n",
       "      <td>2</td>\n",
       "      <td>2023-01-01 00:07:56</td>\n",
       "      <td>2</td>\n",
       "      <td>1365</td>\n",
       "      <td>1442.94</td>\n",
       "      <td>476</td>\n",
       "      <td>0</td>\n",
       "      <td>1</td>\n",
       "      <td>1</td>\n",
       "    </tr>\n",
       "    <tr>\n",
       "      <th>3</th>\n",
       "      <td>3</td>\n",
       "      <td>3</td>\n",
       "      <td>2023-01-01 00:09:29</td>\n",
       "      <td>4128</td>\n",
       "      <td>8737</td>\n",
       "      <td>620.65</td>\n",
       "      <td>569</td>\n",
       "      <td>0</td>\n",
       "      <td>0</td>\n",
       "      <td>0</td>\n",
       "    </tr>\n",
       "    <tr>\n",
       "      <th>4</th>\n",
       "      <td>4</td>\n",
       "      <td>4</td>\n",
       "      <td>2023-01-01 00:10:34</td>\n",
       "      <td>927</td>\n",
       "      <td>9906</td>\n",
       "      <td>490.66</td>\n",
       "      <td>634</td>\n",
       "      <td>0</td>\n",
       "      <td>0</td>\n",
       "      <td>0</td>\n",
       "    </tr>\n",
       "    <tr>\n",
       "      <th>...</th>\n",
       "      <td>...</td>\n",
       "      <td>...</td>\n",
       "      <td>...</td>\n",
       "      <td>...</td>\n",
       "      <td>...</td>\n",
       "      <td>...</td>\n",
       "      <td>...</td>\n",
       "      <td>...</td>\n",
       "      <td>...</td>\n",
       "      <td>...</td>\n",
       "    </tr>\n",
       "    <tr>\n",
       "      <th>1754150</th>\n",
       "      <td>1754150</td>\n",
       "      <td>1754150</td>\n",
       "      <td>2023-07-02 23:56:36</td>\n",
       "      <td>161</td>\n",
       "      <td>655</td>\n",
       "      <td>531.43</td>\n",
       "      <td>15810996</td>\n",
       "      <td>182</td>\n",
       "      <td>0</td>\n",
       "      <td>0</td>\n",
       "    </tr>\n",
       "    <tr>\n",
       "      <th>1754151</th>\n",
       "      <td>1754151</td>\n",
       "      <td>1754151</td>\n",
       "      <td>2023-07-02 23:57:38</td>\n",
       "      <td>4342</td>\n",
       "      <td>6181</td>\n",
       "      <td>10.40</td>\n",
       "      <td>15811058</td>\n",
       "      <td>182</td>\n",
       "      <td>0</td>\n",
       "      <td>0</td>\n",
       "    </tr>\n",
       "    <tr>\n",
       "      <th>1754152</th>\n",
       "      <td>1754152</td>\n",
       "      <td>1754152</td>\n",
       "      <td>2023-07-02 23:58:21</td>\n",
       "      <td>618</td>\n",
       "      <td>1502</td>\n",
       "      <td>26.62</td>\n",
       "      <td>15811101</td>\n",
       "      <td>182</td>\n",
       "      <td>0</td>\n",
       "      <td>0</td>\n",
       "    </tr>\n",
       "    <tr>\n",
       "      <th>1754153</th>\n",
       "      <td>1754153</td>\n",
       "      <td>1754153</td>\n",
       "      <td>2023-07-02 23:59:52</td>\n",
       "      <td>4056</td>\n",
       "      <td>3067</td>\n",
       "      <td>550.43</td>\n",
       "      <td>15811192</td>\n",
       "      <td>182</td>\n",
       "      <td>0</td>\n",
       "      <td>0</td>\n",
       "    </tr>\n",
       "    <tr>\n",
       "      <th>1754154</th>\n",
       "      <td>1754154</td>\n",
       "      <td>1754154</td>\n",
       "      <td>2023-07-02 23:59:57</td>\n",
       "      <td>3542</td>\n",
       "      <td>9849</td>\n",
       "      <td>216.57</td>\n",
       "      <td>15811197</td>\n",
       "      <td>182</td>\n",
       "      <td>0</td>\n",
       "      <td>0</td>\n",
       "    </tr>\n",
       "  </tbody>\n",
       "</table>\n",
       "<p>1754155 rows × 10 columns</p>\n",
       "</div>"
      ],
      "text/plain": [
       "           Count  TRANSACTION_ID          TX_DATETIME  CUSTOMER_ID  \\\n",
       "0              0               0  2023-01-01 00:00:31          596   \n",
       "1              1               1  2023-01-01 00:02:10         4961   \n",
       "2              2               2  2023-01-01 00:07:56            2   \n",
       "3              3               3  2023-01-01 00:09:29         4128   \n",
       "4              4               4  2023-01-01 00:10:34          927   \n",
       "...          ...             ...                  ...          ...   \n",
       "1754150  1754150         1754150  2023-07-02 23:56:36          161   \n",
       "1754151  1754151         1754151  2023-07-02 23:57:38         4342   \n",
       "1754152  1754152         1754152  2023-07-02 23:58:21          618   \n",
       "1754153  1754153         1754153  2023-07-02 23:59:52         4056   \n",
       "1754154  1754154         1754154  2023-07-02 23:59:57         3542   \n",
       "\n",
       "         TERMINAL_ID  TX_AMOUNT  TX_TIME_SECONDS  TX_TIME_DAYS  TX_FRAUD  \\\n",
       "0               3156     533.07               31             0         0   \n",
       "1               3412     808.56              130             0         0   \n",
       "2               1365    1442.94              476             0         1   \n",
       "3               8737     620.65              569             0         0   \n",
       "4               9906     490.66              634             0         0   \n",
       "...              ...        ...              ...           ...       ...   \n",
       "1754150          655     531.43         15810996           182         0   \n",
       "1754151         6181      10.40         15811058           182         0   \n",
       "1754152         1502      26.62         15811101           182         0   \n",
       "1754153         3067     550.43         15811192           182         0   \n",
       "1754154         9849     216.57         15811197           182         0   \n",
       "\n",
       "         TX_FRAUD_SCENARIO  \n",
       "0                        0  \n",
       "1                        0  \n",
       "2                        1  \n",
       "3                        0  \n",
       "4                        0  \n",
       "...                    ...  \n",
       "1754150                  0  \n",
       "1754151                  0  \n",
       "1754152                  0  \n",
       "1754153                  0  \n",
       "1754154                  0  \n",
       "\n",
       "[1754155 rows x 10 columns]"
      ]
     },
     "metadata": {},
     "output_type": "display_data"
    }
   ],
   "source": [
    "content = pd.read_csv('data/Final Transactions.csv')\n",
    "display(content)"
   ]
  },
  {
   "cell_type": "code",
   "execution_count": 27,
   "id": "a0031da6",
   "metadata": {},
   "outputs": [
    {
     "data": {
      "text/plain": [
       "4990"
      ]
     },
     "execution_count": 27,
     "metadata": {},
     "output_type": "execute_result"
    }
   ],
   "source": [
    "content['CUSTOMER_ID'].nunique()"
   ]
  },
  {
   "cell_type": "code",
   "execution_count": 28,
   "id": "14b59e93",
   "metadata": {},
   "outputs": [
    {
     "name": "stdout",
     "output_type": "stream",
     "text": [
      "1754155\n"
     ]
    }
   ],
   "source": [
    "content.dropna(subset=[\"CUSTOMER_ID\"], inplace=True)\n",
    "content.drop(['Count'], axis=1,inplace=True)\n",
    "print(len(content))"
   ]
  },
  {
   "cell_type": "code",
   "execution_count": 29,
   "id": "0cdc747b",
   "metadata": {},
   "outputs": [
    {
     "data": {
      "text/html": [
       "<div>\n",
       "<style scoped>\n",
       "    .dataframe tbody tr th:only-of-type {\n",
       "        vertical-align: middle;\n",
       "    }\n",
       "\n",
       "    .dataframe tbody tr th {\n",
       "        vertical-align: top;\n",
       "    }\n",
       "\n",
       "    .dataframe thead th {\n",
       "        text-align: right;\n",
       "    }\n",
       "</style>\n",
       "<table border=\"1\" class=\"dataframe\">\n",
       "  <thead>\n",
       "    <tr style=\"text-align: right;\">\n",
       "      <th></th>\n",
       "      <th>TRANSACTION_ID</th>\n",
       "      <th>TX_DATETIME</th>\n",
       "      <th>CUSTOMER_ID</th>\n",
       "      <th>TERMINAL_ID</th>\n",
       "      <th>TX_AMOUNT</th>\n",
       "      <th>TX_FRAUD</th>\n",
       "      <th>TX_FRAUD_SCENARIO</th>\n",
       "      <th>time_idx</th>\n",
       "    </tr>\n",
       "  </thead>\n",
       "  <tbody>\n",
       "    <tr>\n",
       "      <th>0</th>\n",
       "      <td>1754154</td>\n",
       "      <td>2023-07-02 23:59:57</td>\n",
       "      <td>3542</td>\n",
       "      <td>3542</td>\n",
       "      <td>216.57</td>\n",
       "      <td>0</td>\n",
       "      <td>0</td>\n",
       "      <td>0</td>\n",
       "    </tr>\n",
       "    <tr>\n",
       "      <th>1</th>\n",
       "      <td>1754153</td>\n",
       "      <td>2023-07-02 23:59:52</td>\n",
       "      <td>4056</td>\n",
       "      <td>4056</td>\n",
       "      <td>550.43</td>\n",
       "      <td>0</td>\n",
       "      <td>0</td>\n",
       "      <td>0</td>\n",
       "    </tr>\n",
       "    <tr>\n",
       "      <th>2</th>\n",
       "      <td>1754152</td>\n",
       "      <td>2023-07-02 23:58:21</td>\n",
       "      <td>618</td>\n",
       "      <td>618</td>\n",
       "      <td>26.62</td>\n",
       "      <td>0</td>\n",
       "      <td>0</td>\n",
       "      <td>0</td>\n",
       "    </tr>\n",
       "    <tr>\n",
       "      <th>3</th>\n",
       "      <td>1754151</td>\n",
       "      <td>2023-07-02 23:57:38</td>\n",
       "      <td>4342</td>\n",
       "      <td>4342</td>\n",
       "      <td>10.40</td>\n",
       "      <td>0</td>\n",
       "      <td>0</td>\n",
       "      <td>0</td>\n",
       "    </tr>\n",
       "    <tr>\n",
       "      <th>4</th>\n",
       "      <td>1754150</td>\n",
       "      <td>2023-07-02 23:56:36</td>\n",
       "      <td>161</td>\n",
       "      <td>161</td>\n",
       "      <td>531.43</td>\n",
       "      <td>0</td>\n",
       "      <td>0</td>\n",
       "      <td>0</td>\n",
       "    </tr>\n",
       "    <tr>\n",
       "      <th>...</th>\n",
       "      <td>...</td>\n",
       "      <td>...</td>\n",
       "      <td>...</td>\n",
       "      <td>...</td>\n",
       "      <td>...</td>\n",
       "      <td>...</td>\n",
       "      <td>...</td>\n",
       "      <td>...</td>\n",
       "    </tr>\n",
       "    <tr>\n",
       "      <th>1754150</th>\n",
       "      <td>4</td>\n",
       "      <td>2023-01-01 00:10:34</td>\n",
       "      <td>927</td>\n",
       "      <td>927</td>\n",
       "      <td>490.66</td>\n",
       "      <td>0</td>\n",
       "      <td>0</td>\n",
       "      <td>493</td>\n",
       "    </tr>\n",
       "    <tr>\n",
       "      <th>1754151</th>\n",
       "      <td>3</td>\n",
       "      <td>2023-01-01 00:09:29</td>\n",
       "      <td>4128</td>\n",
       "      <td>4128</td>\n",
       "      <td>620.65</td>\n",
       "      <td>0</td>\n",
       "      <td>0</td>\n",
       "      <td>598</td>\n",
       "    </tr>\n",
       "    <tr>\n",
       "      <th>1754152</th>\n",
       "      <td>2</td>\n",
       "      <td>2023-01-01 00:07:56</td>\n",
       "      <td>2</td>\n",
       "      <td>2</td>\n",
       "      <td>1442.94</td>\n",
       "      <td>1</td>\n",
       "      <td>1</td>\n",
       "      <td>337</td>\n",
       "    </tr>\n",
       "    <tr>\n",
       "      <th>1754153</th>\n",
       "      <td>1</td>\n",
       "      <td>2023-01-01 00:02:10</td>\n",
       "      <td>4961</td>\n",
       "      <td>4961</td>\n",
       "      <td>808.56</td>\n",
       "      <td>0</td>\n",
       "      <td>0</td>\n",
       "      <td>737</td>\n",
       "    </tr>\n",
       "    <tr>\n",
       "      <th>1754154</th>\n",
       "      <td>0</td>\n",
       "      <td>2023-01-01 00:00:31</td>\n",
       "      <td>596</td>\n",
       "      <td>596</td>\n",
       "      <td>533.07</td>\n",
       "      <td>0</td>\n",
       "      <td>0</td>\n",
       "      <td>685</td>\n",
       "    </tr>\n",
       "  </tbody>\n",
       "</table>\n",
       "<p>1754155 rows × 8 columns</p>\n",
       "</div>"
      ],
      "text/plain": [
       "         TRANSACTION_ID         TX_DATETIME CUSTOMER_ID TERMINAL_ID  \\\n",
       "0               1754154 2023-07-02 23:59:57        3542        3542   \n",
       "1               1754153 2023-07-02 23:59:52        4056        4056   \n",
       "2               1754152 2023-07-02 23:58:21         618         618   \n",
       "3               1754151 2023-07-02 23:57:38        4342        4342   \n",
       "4               1754150 2023-07-02 23:56:36         161         161   \n",
       "...                 ...                 ...         ...         ...   \n",
       "1754150               4 2023-01-01 00:10:34         927         927   \n",
       "1754151               3 2023-01-01 00:09:29        4128        4128   \n",
       "1754152               2 2023-01-01 00:07:56           2           2   \n",
       "1754153               1 2023-01-01 00:02:10        4961        4961   \n",
       "1754154               0 2023-01-01 00:00:31         596         596   \n",
       "\n",
       "         TX_AMOUNT  TX_FRAUD  TX_FRAUD_SCENARIO  time_idx  \n",
       "0           216.57         0                  0         0  \n",
       "1           550.43         0                  0         0  \n",
       "2            26.62         0                  0         0  \n",
       "3            10.40         0                  0         0  \n",
       "4           531.43         0                  0         0  \n",
       "...            ...       ...                ...       ...  \n",
       "1754150     490.66         0                  0       493  \n",
       "1754151     620.65         0                  0       598  \n",
       "1754152    1442.94         1                  1       337  \n",
       "1754153     808.56         0                  0       737  \n",
       "1754154     533.07         0                  0       685  \n",
       "\n",
       "[1754155 rows x 8 columns]"
      ]
     },
     "metadata": {},
     "output_type": "display_data"
    }
   ],
   "source": [
    "content['TX_DATETIME'] = pd.to_datetime(content['TX_DATETIME'])\n",
    "content['CUSTOMER_ID'] = content['CUSTOMER_ID'].astype('str')\n",
    "content['TERMINAL_ID'] = content['CUSTOMER_ID'].astype('str')\n",
    "content.sort_values(by=['CUSTOMER_ID'], kind='mergesort')\n",
    "content = content.sort_values(by='TX_DATETIME', kind='mergesort', ascending=False).reset_index(drop=True)\n",
    "content.drop(['TX_TIME_SECONDS', 'TX_TIME_DAYS'], axis=1,inplace=True)\n",
    "#content['time_idx'] = np.arange(len(content))\n",
    "content[\"time_idx\"] = content.groupby(\"CUSTOMER_ID\").cumcount()\n",
    "display(content)"
   ]
  },
  {
   "cell_type": "code",
   "execution_count": 30,
   "id": "2d48881a",
   "metadata": {},
   "outputs": [],
   "source": [
    "content[\"TX_FRAUD\"] = content[\"TX_FRAUD\"].astype(\"float32\")\n",
    "content[\"TX_AMOUNT\"] = content[\"TX_AMOUNT\"].astype(\"float32\")\n",
    "content[\"TX_FRAUD_SCENARIO\"] = content[\"TX_FRAUD_SCENARIO\"].astype(\"float32\")"
   ]
  },
  {
   "cell_type": "code",
   "execution_count": 31,
   "id": "c596b4a2",
   "metadata": {},
   "outputs": [],
   "source": [
    "#groupNorm = GroupNormalizer(groups=[\"CUSTOMER_ID\"], transformation=\"softplus\")\n",
    "#groupNorm.fit(content[\"TX_FRAUD\"], content[\"CUSTOMER_ID\"])"
   ]
  },
  {
   "cell_type": "code",
   "execution_count": 32,
   "id": "73d77da3",
   "metadata": {},
   "outputs": [
    {
     "name": "stderr",
     "output_type": "stream",
     "text": [
      "/Users/craigjones/Documents/CBAProj/venv/lib/python3.11/site-packages/pytorch_forecasting/data/timeseries/_timeseries.py:1847: UserWarning: Min encoder length and/or min_prediction_idx and/or min prediction length and/or lags are too large for 703 series/groups which therefore are not present in the dataset index. This means no predictions can be made for those series. First 10 removed groups: [{'__group_id__CUSTOMER_ID': '10'}, {'__group_id__CUSTOMER_ID': '1009'}, {'__group_id__CUSTOMER_ID': '1010'}, {'__group_id__CUSTOMER_ID': '1017'}, {'__group_id__CUSTOMER_ID': '1024'}, {'__group_id__CUSTOMER_ID': '1025'}, {'__group_id__CUSTOMER_ID': '1030'}, {'__group_id__CUSTOMER_ID': '1042'}, {'__group_id__CUSTOMER_ID': '1057'}, {'__group_id__CUSTOMER_ID': '106'}]\n",
      "  warnings.warn(\n"
     ]
    }
   ],
   "source": [
    "maxEncoderLength = 100\n",
    "maxPredLength = 1\n",
    "training = TimeSeriesDataSet( \n",
    "    content,\n",
    "    time_idx='time_idx',\n",
    "    target='TX_FRAUD',\n",
    "    group_ids=['CUSTOMER_ID'],\n",
    "    static_categoricals=['CUSTOMER_ID','TERMINAL_ID'],\n",
    "    time_varying_unknown_reals=['TX_AMOUNT','TX_FRAUD_SCENARIO'],\n",
    "    max_encoder_length=maxEncoderLength,\n",
    "    max_prediction_length=maxPredLength,\n",
    "    target_normalizer=GroupNormalizer(groups=[\"CUSTOMER_ID\"]),\n",
    "    add_relative_time_idx=True,\n",
    "    add_target_scales=True,\n",
    "    add_encoder_length=True,\n",
    ")"
   ]
  },
  {
   "cell_type": "code",
   "execution_count": 33,
   "id": "5a1a2410",
   "metadata": {},
   "outputs": [
    {
     "name": "stderr",
     "output_type": "stream",
     "text": [
      "/Users/craigjones/Documents/CBAProj/venv/lib/python3.11/site-packages/pytorch_forecasting/data/timeseries/_timeseries.py:1847: UserWarning: Min encoder length and/or min_prediction_idx and/or min prediction length and/or lags are too large for 703 series/groups which therefore are not present in the dataset index. This means no predictions can be made for those series. First 10 removed groups: [{'__group_id__CUSTOMER_ID': '10'}, {'__group_id__CUSTOMER_ID': '1009'}, {'__group_id__CUSTOMER_ID': '1010'}, {'__group_id__CUSTOMER_ID': '1017'}, {'__group_id__CUSTOMER_ID': '1024'}, {'__group_id__CUSTOMER_ID': '1025'}, {'__group_id__CUSTOMER_ID': '1030'}, {'__group_id__CUSTOMER_ID': '1042'}, {'__group_id__CUSTOMER_ID': '1057'}, {'__group_id__CUSTOMER_ID': '106'}]\n",
      "  warnings.warn(\n",
      "Seed set to 42\n",
      "💡 Tip: For seamless cloud uploads and versioning, try installing [litmodels](https://pypi.org/project/litmodels/) to enable LitModelCheckpoint, which syncs automatically with the Lightning model registry.\n",
      "GPU available: True (mps), used: True\n",
      "TPU available: False, using: 0 TPU cores\n",
      "HPU available: False, using: 0 HPUs\n",
      "/Users/craigjones/Documents/CBAProj/venv/lib/python3.11/site-packages/lightning/pytorch/utilities/parsing.py:209: Attribute 'loss' is an instance of `nn.Module` and is already saved during checkpointing. It is recommended to ignore them using `self.save_hyperparameters(ignore=['loss'])`.\n",
      "/Users/craigjones/Documents/CBAProj/venv/lib/python3.11/site-packages/lightning/pytorch/utilities/parsing.py:209: Attribute 'logging_metrics' is an instance of `nn.Module` and is already saved during checkpointing. It is recommended to ignore them using `self.save_hyperparameters(ignore=['logging_metrics'])`.\n"
     ]
    }
   ],
   "source": [
    "batchSize = 128\n",
    "trainDataloader = training.to_dataloader(\n",
    "    train=True, batch_size=batchSize, num_workers = 2\n",
    ")\n",
    "validation = TimeSeriesDataSet.from_dataset(\n",
    "    training, content, predict=True, stop_randomization=True\n",
    ")\n",
    "valDataloader = validation.to_dataloader(\n",
    "    train=False,batch_size=batchSize*10, num_workers=2\n",
    ")\n",
    "pl.seed_everything(42)\n",
    "trainer = pl.Trainer(\n",
    "    accelerator=\"auto\",\n",
    "    gradient_clip_val=0.1,\n",
    ")\n",
    "TFT = TemporalFusionTransformer.from_dataset(\n",
    "    training,\n",
    "    learning_rate = 0.03,\n",
    "    hidden_size=8,\n",
    "    attention_head_size=3,\n",
    "    dropout=0.1,\n",
    "    hidden_continuous_size=8,\n",
    "    loss=QuantileLoss(),\n",
    "    optimizer=\"ranger\",\n",
    ")"
   ]
  },
  {
   "cell_type": "code",
   "execution_count": 34,
   "id": "44e1a95d",
   "metadata": {},
   "outputs": [
    {
     "name": "stderr",
     "output_type": "stream",
     "text": [
      "/Users/craigjones/Documents/CBAProj/venv/lib/python3.11/site-packages/lightning/pytorch/loops/utilities.py:73: `max_epochs` was not set. Setting it to 1000 epochs. To train without an epoch limit, set `max_epochs=-1`.\n",
      "/Users/craigjones/Documents/CBAProj/venv/lib/python3.11/site-packages/lightning/pytorch/trainer/connectors/data_connector.py:420: Consider setting `persistent_workers=True` in 'train_dataloader' to speed up the dataloader worker initialization.\n",
      "/Users/craigjones/Documents/CBAProj/venv/lib/python3.11/site-packages/lightning/pytorch/trainer/connectors/data_connector.py:420: Consider setting `persistent_workers=True` in 'val_dataloader' to speed up the dataloader worker initialization.\n",
      "Finding best initial lr:  96%|█████████▌| 96/100 [00:46<00:01,  2.05it/s]\n",
      "LR finder stopped early after 96 steps due to diverging loss.\n",
      "Learning rate set to 0.004365158322401661\n",
      "Restoring states from the checkpoint path at /Users/craigjones/Documents/CBAProj/src/.lr_find_a69b9ba2-abc2-4476-bb75-b99908663cc6.ckpt\n",
      "Restored all states from the checkpoint at /Users/craigjones/Documents/CBAProj/src/.lr_find_a69b9ba2-abc2-4476-bb75-b99908663cc6.ckpt\n"
     ]
    },
    {
     "name": "stdout",
     "output_type": "stream",
     "text": [
      "suggested learning rate: 0.004365158322401661\n"
     ]
    },
    {
     "name": "stderr",
     "output_type": "stream",
     "text": [
      "Traceback (most recent call last):\n",
      "  File \"<string>\", line 1, in <module>\n",
      "  File \"/Library/Frameworks/Python.framework/Versions/3.11/lib/python3.11/multiprocessing/spawn.py\", line 122, in spawn_main\n",
      "    exitcode = _main(fd, parent_sentinel)\n",
      "               ^^^^^^^^^^^^^^^^^^^^^^^^^^\n",
      "  File \"/Library/Frameworks/Python.framework/Versions/3.11/lib/python3.11/multiprocessing/spawn.py\", line 132, in _main\n",
      "    self = reduction.pickle.load(from_parent)\n",
      "           ^^^^^^^^^^^^^^^^^^^^^^^^^^^^^^^^^^\n",
      "_pickle.UnpicklingError: pickle data was truncated\n"
     ]
    },
    {
     "name": "stdout",
     "output_type": "stream",
     "text": [
      "Epoch 0: 100%|██████████| 50/50 [23:45<00:00,  0.04it/s, v_num=5, train_loss_step=0.0963]\n"
     ]
    },
    {
     "data": {
      "image/png": "[encoded data removed]",
      "text/plain": [
       "<Figure size 640x480 with 1 Axes>"
      ]
     },
     "metadata": {},
     "output_type": "display_data"
    },
    {
     "name": "stderr",
     "output_type": "stream",
     "text": [
      "/var/folders/6y/5qkcjx755bdb5m9t_q7w943h0000gn/T/ipykernel_95970/3343767264.py:10: UserWarning: FigureCanvasAgg is non-interactive, and thus cannot be shown\n",
      "  fig.show()\n"
     ]
    }
   ],
   "source": [
    "res = Tuner(trainer).lr_find(\n",
    "    TFT,\n",
    "    train_dataloaders=trainDataloader,\n",
    "    val_dataloaders=valDataloader,\n",
    "    max_lr=10.0,\n",
    "    min_lr=1e-6\n",
    ")\n",
    "print(f\"suggested learning rate: {res.suggestion()}\")\n",
    "fig = res.plot(show=True, suggest=True)\n",
    "fig.show()"
   ]
  },
  {
   "cell_type": "code",
   "execution_count": 35,
   "id": "3a4e3c43",
   "metadata": {},
   "outputs": [
    {
     "name": "stderr",
     "output_type": "stream",
     "text": [
      "💡 Tip: For seamless cloud uploads and versioning, try installing [litmodels](https://pypi.org/project/litmodels/) to enable LitModelCheckpoint, which syncs automatically with the Lightning model registry.\n"
     ]
    },
    {
     "name": "stderr",
     "output_type": "stream",
     "text": [
      "GPU available: True (mps), used: True\n",
      "TPU available: False, using: 0 TPU cores\n",
      "HPU available: False, using: 0 HPUs\n",
      "/Users/craigjones/Documents/CBAProj/venv/lib/python3.11/site-packages/lightning/pytorch/utilities/parsing.py:209: Attribute 'loss' is an instance of `nn.Module` and is already saved during checkpointing. It is recommended to ignore them using `self.save_hyperparameters(ignore=['loss'])`.\n",
      "/Users/craigjones/Documents/CBAProj/venv/lib/python3.11/site-packages/lightning/pytorch/utilities/parsing.py:209: Attribute 'logging_metrics' is an instance of `nn.Module` and is already saved during checkpointing. It is recommended to ignore them using `self.save_hyperparameters(ignore=['logging_metrics'])`.\n"
     ]
    },
    {
     "name": "stdout",
     "output_type": "stream",
     "text": [
      "Number of parameters in network: 178.0k\n"
     ]
    }
   ],
   "source": [
    "earlyStopper = EarlyStopping(\n",
    "    monitor=\"val_loss\", min_delta=1e-4, patience=10, verbose=False, mode=\"min\"\n",
    ")\n",
    "learningRateLogger = LearningRateMonitor()\n",
    "logger = TensorBoardLogger(save_dir=\"lightning_logs\", name=\"Model\")\n",
    "\n",
    "trainer = pl.Trainer(\n",
    "    max_epochs=50,\n",
    "    accelerator=\"auto\",\n",
    "    enable_model_summary=True,\n",
    "    gradient_clip_val=0.1,\n",
    "    limit_train_batches=50,\n",
    "    callbacks=[learningRateLogger, earlyStopper],\n",
    "    logger=logger,\n",
    ")\n",
    "biggerTFT = TemporalFusionTransformer.from_dataset(\n",
    "    training,\n",
    "    learning_rate=0.03,\n",
    "    hidden_size=16,\n",
    "    attention_head_size=2,\n",
    "    dropout=0.1,\n",
    "    hidden_continuous_size=8,\n",
    "    loss=QuantileLoss(),\n",
    "    log_interval=10,\n",
    "    optimizer=\"ranger\",\n",
    "    reduce_on_plateau_patience=4,\n",
    ")\n",
    "print(f\"Number of parameters in network: {biggerTFT.size() / 1e3:.1f}k\")"
   ]
  },
  {
   "cell_type": "code",
   "execution_count": 36,
   "id": "5f6288e4",
   "metadata": {},
   "outputs": [
    {
     "name": "stderr",
     "output_type": "stream",
     "text": [
      "\n",
      "   | Name                               | Type                            | Params | Mode \n",
      "------------------------------------------------------------------------------------------------\n",
      "0  | loss                               | QuantileLoss                    | 0      | train\n",
      "1  | logging_metrics                    | ModuleList                      | 0      | train\n",
      "2  | input_embeddings                   | MultiEmbedding                  | 159 K  | train\n",
      "3  | prescalers                         | ModuleDict                      | 96     | train\n",
      "4  | static_variable_selection          | VariableSelectionNetwork        | 2.1 K  | train\n",
      "5  | encoder_variable_selection         | VariableSelectionNetwork        | 1.8 K  | train\n",
      "6  | decoder_variable_selection         | VariableSelectionNetwork        | 528    | train\n",
      "7  | static_context_variable_selection  | GatedResidualNetwork            | 1.1 K  | train\n",
      "8  | static_context_initial_hidden_lstm | GatedResidualNetwork            | 1.1 K  | train\n",
      "9  | static_context_initial_cell_lstm   | GatedResidualNetwork            | 1.1 K  | train\n",
      "10 | static_context_enrichment          | GatedResidualNetwork            | 1.1 K  | train\n",
      "11 | lstm_encoder                       | LSTM                            | 2.2 K  | train\n",
      "12 | lstm_decoder                       | LSTM                            | 2.2 K  | train\n",
      "13 | post_lstm_gate_encoder             | GatedLinearUnit                 | 544    | train\n",
      "14 | post_lstm_add_norm_encoder         | AddNorm                         | 32     | train\n",
      "15 | static_enrichment                  | GatedResidualNetwork            | 1.4 K  | train\n",
      "16 | multihead_attn                     | InterpretableMultiHeadAttention | 808    | train\n",
      "17 | post_attn_gate_norm                | GateAddNorm                     | 576    | train\n",
      "18 | pos_wise_ff                        | GatedResidualNetwork            | 1.1 K  | train\n",
      "19 | pre_output_gate_norm               | GateAddNorm                     | 576    | train\n",
      "20 | output_layer                       | Linear                          | 119    | train\n",
      "------------------------------------------------------------------------------------------------\n",
      "178 K     Trainable params\n",
      "0         Non-trainable params\n",
      "178 K     Total params\n",
      "0.712     Total estimated model params size (MB)\n",
      "254       Modules in train mode\n",
      "0         Modules in eval mode\n"
     ]
    },
    {
     "name": "stdout",
     "output_type": "stream",
     "text": [
      "Sanity Checking: |          | 0/? [00:00<?, ?it/s]"
     ]
    },
    {
     "name": "stderr",
     "output_type": "stream",
     "text": [
      "/Users/craigjones/Documents/CBAProj/venv/lib/python3.11/site-packages/lightning/pytorch/trainer/connectors/data_connector.py:420: Consider setting `persistent_workers=True` in 'val_dataloader' to speed up the dataloader worker initialization.\n"
     ]
    },
    {
     "name": "stdout",
     "output_type": "stream",
     "text": [
      "                                                                           \r"
     ]
    },
    {
     "name": "stderr",
     "output_type": "stream",
     "text": [
      "/Users/craigjones/Documents/CBAProj/venv/lib/python3.11/site-packages/lightning/pytorch/trainer/connectors/data_connector.py:420: Consider setting `persistent_workers=True` in 'train_dataloader' to speed up the dataloader worker initialization.\n"
     ]
    },
    {
     "name": "stdout",
     "output_type": "stream",
     "text": [
      "Epoch 49: 100%|██████████| 50/50 [22:33<00:00,  0.04it/s, v_num=7, train_loss_step=0.0714, val_loss=0.072, train_loss_epoch=0.0756]   "
     ]
    },
    {
     "name": "stderr",
     "output_type": "stream",
     "text": [
      "`Trainer.fit` stopped: `max_epochs=50` reached.\n"
     ]
    },
    {
     "name": "stdout",
     "output_type": "stream",
     "text": [
      "Epoch 49: 100%|██████████| 50/50 [22:33<00:00,  0.04it/s, v_num=7, train_loss_step=0.0714, val_loss=0.072, train_loss_epoch=0.0756]\n"
     ]
    }
   ],
   "source": [
    "trainer.fit(\n",
    "    biggerTFT,\n",
    "    train_dataloaders=trainDataloader,\n",
    "    val_dataloaders=valDataloader,\n",
    ")"
   ]
  },
  {
   "cell_type": "code",
   "execution_count": 38,
   "id": "08b3f2c6",
   "metadata": {},
   "outputs": [
    {
     "name": "stderr",
     "output_type": "stream",
     "text": [
      "[I 2025-07-29 22:33:15,732] A new study created in memory with name: no-name-7a6b828a-d2f0-4d5f-9fbb-84922b5d8137\n",
      "/Users/craigjones/Documents/CBAProj/venv/lib/python3.11/site-packages/pytorch_forecasting/models/temporal_fusion_transformer/tuning.py:142: FutureWarning: suggest_loguniform has been deprecated in v3.0.0. This feature will be removed in v6.0.0. See https://github.com/optuna/optuna/releases/tag/v3.0.0. Use suggest_float(..., log=True) instead.\n",
      "  gradient_clip_val = trial.suggest_loguniform(\n",
      "GPU available: True (mps), used: True\n",
      "TPU available: False, using: 0 TPU cores\n",
      "HPU available: False, using: 0 HPUs\n",
      "/Users/craigjones/Documents/CBAProj/venv/lib/python3.11/site-packages/pytorch_forecasting/models/temporal_fusion_transformer/tuning.py:168: FutureWarning: suggest_uniform has been deprecated in v3.0.0. This feature will be removed in v6.0.0. See https://github.com/optuna/optuna/releases/tag/v3.0.0. Use suggest_float instead.\n",
      "  dropout=trial.suggest_uniform(\"dropout\", *dropout_range),\n",
      "/Users/craigjones/Documents/CBAProj/venv/lib/python3.11/site-packages/lightning/pytorch/utilities/parsing.py:209: Attribute 'loss' is an instance of `nn.Module` and is already saved during checkpointing. It is recommended to ignore them using `self.save_hyperparameters(ignore=['loss'])`.\n",
      "/Users/craigjones/Documents/CBAProj/venv/lib/python3.11/site-packages/lightning/pytorch/utilities/parsing.py:209: Attribute 'logging_metrics' is an instance of `nn.Module` and is already saved during checkpointing. It is recommended to ignore them using `self.save_hyperparameters(ignore=['logging_metrics'])`.\n",
      "/Users/craigjones/Documents/CBAProj/venv/lib/python3.11/site-packages/pytorch_forecasting/models/temporal_fusion_transformer/tuning.py:222: FutureWarning: suggest_loguniform has been deprecated in v3.0.0. This feature will be removed in v6.0.0. See https://github.com/optuna/optuna/releases/tag/v3.0.0. Use suggest_float(..., log=True) instead.\n",
      "  model.hparams.learning_rate = trial.suggest_loguniform(\n",
      "/Users/craigjones/Documents/CBAProj/venv/lib/python3.11/site-packages/lightning/pytorch/trainer/connectors/data_connector.py:420: Consider setting `persistent_workers=True` in 'val_dataloader' to speed up the dataloader worker initialization.\n",
      "/Users/craigjones/Documents/CBAProj/venv/lib/python3.11/site-packages/lightning/pytorch/trainer/connectors/data_connector.py:420: Consider setting `persistent_workers=True` in 'train_dataloader' to speed up the dataloader worker initialization.\n",
      "/Users/craigjones/Documents/CBAProj/venv/lib/python3.11/site-packages/lightning/pytorch/loops/fit_loop.py:310: The number of training batches (30) is smaller than the logging interval Trainer(log_every_n_steps=50). Set a lower value for log_every_n_steps if you want to see logs for the training epoch.\n"
     ]
    }
   ],
   "source": [
    "study = optimize_hyperparameters( \n",
    "    trainDataloader,\n",
    "    valDataloader,\n",
    "    model_path=\"optunaTest\",\n",
    "    n_trials=200,\n",
    "    max_epochs=50,\n",
    "    gradient_clip_val_range=(0.01,1.0),\n",
    "    hidden_size_range=(8, 128),\n",
    "    attention_head_size_range=(1,4),\n",
    "    learning_rate_range=(0.001,0.1),\n",
    "    dropout_range=(0.1,0.3),\n",
    "    trainer_kwargs=dict(limit_train_batches=30),\n",
    "    reduce_on_plateau_patience=4,\n",
    "    use_learning_rate_finder=False,\n",
    ")\n",
    "\n",
    "with open(\"testStudy.pkl\", \"wb\") as fout:\n",
    "    pickle.dump(study,fout)\n",
    "\n",
    "print(study.best_trial.params)\n"
   ]
  }
 ],
 "metadata": {
  "kernelspec": {
   "display_name": "venv",
   "language": "python",
   "name": "python3"
  },
  "language_info": {
   "codemirror_mode": {
    "name": "ipython",
    "version": 3
   },
   "file_extension": ".py",
   "mimetype": "text/x-python",
   "name": "python",
   "nbconvert_exporter": "python",
   "pygments_lexer": "ipython3",
   "version": "3.11.8"
  }
 },
 "nbformat": 4,
 "nbformat_minor": 5
}
