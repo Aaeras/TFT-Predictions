{
 "cells": [
  {
   "cell_type": "code",
   "execution_count": null,
   "id": "92d67bf5",
   "metadata": {},
   "outputs": [
    {
     "name": "stderr",
     "output_type": "stream",
     "text": [
      "c:\\Users\\Jones\\Desktop\\CBAProj\\venv\\Lib\\site-packages\\pytorch_forecasting\\models\\base\\_base_model.py:28: TqdmWarning: IProgress not found. Please update jupyter and ipywidgets. See https://ipywidgets.readthedocs.io/en/stable/user_install.html\n",
      "  from tqdm.autonotebook import tqdm\n"
     ]
    }
   ],
   "source": [
    "import pandas as pd\n",
    "import numpy as np\n",
    "from pytorch_forecasting import TimeSeriesDataSet, TemporalFusionTransformer, QuantileLoss, CrossEntropy\n",
    "import lightning as pl\n",
    "from lightning.pytorch.tuner import Tuner\n",
    "import pytorch_optimizer\n",
    "import matplotlib\n",
    "\n",
    "\n",
    "contentDataframe = pd.read_excel('data/Online Retail.xlsx')\n",
    "contentDataframe.dropna(subset=['CustomerID','InvoiceDate'])\n",
    "contentDataframe = contentDataframe.sort_values(by=[\"CustomerID\"],kind=\"mergesort\") #stable sorting means I can sort by one column instead of two :)\n"
   ]
  },
  {
   "cell_type": "code",
   "execution_count": 2,
   "id": "2b55bc88",
   "metadata": {},
   "outputs": [],
   "source": [
    "#display(contentDataframe)"
   ]
  },
  {
   "cell_type": "code",
   "execution_count": 3,
   "id": "91d4a890",
   "metadata": {},
   "outputs": [
    {
     "data": {
      "text/html": [
       "<div>\n",
       "<style scoped>\n",
       "    .dataframe tbody tr th:only-of-type {\n",
       "        vertical-align: middle;\n",
       "    }\n",
       "\n",
       "    .dataframe tbody tr th {\n",
       "        vertical-align: top;\n",
       "    }\n",
       "\n",
       "    .dataframe thead th {\n",
       "        text-align: right;\n",
       "    }\n",
       "</style>\n",
       "<table border=\"1\" class=\"dataframe\">\n",
       "  <thead>\n",
       "    <tr style=\"text-align: right;\">\n",
       "      <th></th>\n",
       "      <th>InvoiceNo</th>\n",
       "      <th>StockCode</th>\n",
       "      <th>Description</th>\n",
       "      <th>Quantity</th>\n",
       "      <th>InvoiceDate</th>\n",
       "      <th>UnitPrice</th>\n",
       "      <th>CustomerID</th>\n",
       "      <th>Country</th>\n",
       "      <th>dateTime</th>\n",
       "      <th>time_idx</th>\n",
       "      <th>totalTxValue</th>\n",
       "    </tr>\n",
       "  </thead>\n",
       "  <tbody>\n",
       "    <tr>\n",
       "      <th>61619</th>\n",
       "      <td>541431</td>\n",
       "      <td>23166</td>\n",
       "      <td>MEDIUM CERAMIC TOP STORAGE JAR</td>\n",
       "      <td>74215</td>\n",
       "      <td>2011-01-18 10:01:00</td>\n",
       "      <td>1.04</td>\n",
       "      <td>12346.0</td>\n",
       "      <td>United Kingdom</td>\n",
       "      <td>2011-01-18 10:01:00</td>\n",
       "      <td>0</td>\n",
       "      <td>74215</td>\n",
       "    </tr>\n",
       "    <tr>\n",
       "      <th>61624</th>\n",
       "      <td>C541433</td>\n",
       "      <td>23166</td>\n",
       "      <td>MEDIUM CERAMIC TOP STORAGE JAR</td>\n",
       "      <td>-74215</td>\n",
       "      <td>2011-01-18 10:17:00</td>\n",
       "      <td>1.04</td>\n",
       "      <td>12346.0</td>\n",
       "      <td>United Kingdom</td>\n",
       "      <td>2011-01-18 10:17:00</td>\n",
       "      <td>0</td>\n",
       "      <td>-74215</td>\n",
       "    </tr>\n",
       "    <tr>\n",
       "      <th>14938</th>\n",
       "      <td>537626</td>\n",
       "      <td>85116</td>\n",
       "      <td>BLACK CANDELABRA T-LIGHT HOLDER</td>\n",
       "      <td>12</td>\n",
       "      <td>2010-12-07 14:57:00</td>\n",
       "      <td>2.10</td>\n",
       "      <td>12347.0</td>\n",
       "      <td>Iceland</td>\n",
       "      <td>2010-12-07 14:57:00</td>\n",
       "      <td>0</td>\n",
       "      <td>24</td>\n",
       "    </tr>\n",
       "    <tr>\n",
       "      <th>14939</th>\n",
       "      <td>537626</td>\n",
       "      <td>22375</td>\n",
       "      <td>AIRLINE BAG VINTAGE JET SET BROWN</td>\n",
       "      <td>4</td>\n",
       "      <td>2010-12-07 14:57:00</td>\n",
       "      <td>4.25</td>\n",
       "      <td>12347.0</td>\n",
       "      <td>Iceland</td>\n",
       "      <td>2010-12-07 14:57:00</td>\n",
       "      <td>1</td>\n",
       "      <td>16</td>\n",
       "    </tr>\n",
       "    <tr>\n",
       "      <th>14940</th>\n",
       "      <td>537626</td>\n",
       "      <td>71477</td>\n",
       "      <td>COLOUR GLASS. STAR T-LIGHT HOLDER</td>\n",
       "      <td>12</td>\n",
       "      <td>2010-12-07 14:57:00</td>\n",
       "      <td>3.25</td>\n",
       "      <td>12347.0</td>\n",
       "      <td>Iceland</td>\n",
       "      <td>2010-12-07 14:57:00</td>\n",
       "      <td>2</td>\n",
       "      <td>36</td>\n",
       "    </tr>\n",
       "  </tbody>\n",
       "</table>\n",
       "</div>"
      ],
      "text/plain": [
       "      InvoiceNo StockCode                        Description  Quantity  \\\n",
       "61619    541431     23166     MEDIUM CERAMIC TOP STORAGE JAR     74215   \n",
       "61624   C541433     23166     MEDIUM CERAMIC TOP STORAGE JAR    -74215   \n",
       "14938    537626     85116    BLACK CANDELABRA T-LIGHT HOLDER        12   \n",
       "14939    537626     22375  AIRLINE BAG VINTAGE JET SET BROWN         4   \n",
       "14940    537626     71477  COLOUR GLASS. STAR T-LIGHT HOLDER        12   \n",
       "\n",
       "              InvoiceDate  UnitPrice  CustomerID         Country  \\\n",
       "61619 2011-01-18 10:01:00       1.04     12346.0  United Kingdom   \n",
       "61624 2011-01-18 10:17:00       1.04     12346.0  United Kingdom   \n",
       "14938 2010-12-07 14:57:00       2.10     12347.0         Iceland   \n",
       "14939 2010-12-07 14:57:00       4.25     12347.0         Iceland   \n",
       "14940 2010-12-07 14:57:00       3.25     12347.0         Iceland   \n",
       "\n",
       "                 dateTime  time_idx  totalTxValue  \n",
       "61619 2011-01-18 10:01:00         0         74215  \n",
       "61624 2011-01-18 10:17:00         0        -74215  \n",
       "14938 2010-12-07 14:57:00         0            24  \n",
       "14939 2010-12-07 14:57:00         1            16  \n",
       "14940 2010-12-07 14:57:00         2            36  "
      ]
     },
     "execution_count": 3,
     "metadata": {},
     "output_type": "execute_result"
    }
   ],
   "source": [
    "contentDataframe.dropna(subset=[\"CustomerID\"], inplace=True)\n",
    "#Predict next purchase, so we want timestep obv where each transaction is one time step\n",
    "#sort by date time so need to convert\n",
    "contentDataframe['dateTime'] = pd.to_datetime(contentDataframe['InvoiceDate'])\n",
    "contentDataframe.sort_values(by='dateTime', kind='mergesort', ascending=False)\n",
    "contentDataframe['time_idx'] = contentDataframe.groupby(['CustomerID','dateTime']).cumcount()\n",
    "contentDataframe['totalTxValue'] = contentDataframe['Quantity'] * contentDataframe['UnitPrice'].astype('int')\n",
    "contentDataframe.head()"
   ]
  },
  {
   "cell_type": "code",
   "execution_count": 4,
   "id": "cbee3c52",
   "metadata": {},
   "outputs": [],
   "source": [
    "validationRows = []\n",
    "testingRows = []\n",
    "for CustomerID, group in contentDataframe.groupby('CustomerID'):\n",
    "    numberOfRows = len(group)\n",
    "    last20 = int(np.floor(0.2*numberOfRows))\n",
    "    last20Rows = group.tail(last20)\n",
    "    validationSplit = group.head(int(last20 / 2))\n",
    "    testingSplit = group.tail(int(last20 / 2))\n",
    "    validationRows.append(validationSplit)\n",
    "    testingRows.append(testingSplit)\n",
    "validationDataframe = pd.concat(validationRows, ignore_index=True)\n",
    "testingDataframe = pd.concat(testingRows,ignore_index=True)"
   ]
  },
  {
   "cell_type": "code",
   "execution_count": 5,
   "id": "f3180c41",
   "metadata": {},
   "outputs": [],
   "source": [
    "contentDataframe['StockCode'] = contentDataframe['StockCode'].astype(\"str\")\n",
    "validationDataframe['StockCode'] = validationDataframe['StockCode'].astype(\"str\")"
   ]
  },
  {
   "cell_type": "code",
   "execution_count": 6,
   "id": "c979909c",
   "metadata": {},
   "outputs": [
    {
     "name": "stderr",
     "output_type": "stream",
     "text": [
      "c:\\Users\\Jones\\Desktop\\CBAProj\\venv\\Lib\\site-packages\\pytorch_forecasting\\data\\timeseries\\_timeseries.py:964: UserWarning: Target scales will be only added for continous targets\n",
      "  warnings.warn(\n",
      "c:\\Users\\Jones\\Desktop\\CBAProj\\venv\\Lib\\site-packages\\pytorch_forecasting\\data\\timeseries\\_timeseries.py:1847: UserWarning: Min encoder length and/or min_prediction_idx and/or min prediction length and/or lags are too large for 2767 series/groups which therefore are not present in the dataset index. This means no predictions can be made for those series. First 10 removed groups: [{'__group_id__CustomerID': 12346.0}, {'__group_id__CustomerID': 12348.0}, {'__group_id__CustomerID': 12350.0}, {'__group_id__CustomerID': 12352.0}, {'__group_id__CustomerID': 12353.0}, {'__group_id__CustomerID': 12355.0}, {'__group_id__CustomerID': 12358.0}, {'__group_id__CustomerID': 12361.0}, {'__group_id__CustomerID': 12363.0}, {'__group_id__CustomerID': 12365.0}]\n",
      "  warnings.warn(\n"
     ]
    }
   ],
   "source": [
    "training = TimeSeriesDataSet(\n",
    "    contentDataframe,\n",
    "    time_varying_known_reals='time_idx',\n",
    "    time_idx='time_idx',\n",
    "    target='Quantity',\n",
    "    group_ids='CustomerID', #not sure if more data prep can be done to make more use of this\n",
    "    static_categoricals=['Country'],\n",
    "    add_relative_time_idx=True,\n",
    "    add_target_scales=True,\n",
    "    add_encoder_length=True,\n",
    "    allow_missing_timesteps=True,\n",
    ")\n",
    "#instatiate data loaders\n",
    "#configuration for min_prediction length, min_encoder length, min_prediction_idx could yield further improvements as to future forecasting"
   ]
  },
  {
   "cell_type": "code",
   "execution_count": 7,
   "id": "a6f62e8e",
   "metadata": {},
   "outputs": [
    {
     "name": "stderr",
     "output_type": "stream",
     "text": [
      "c:\\Users\\Jones\\Desktop\\CBAProj\\venv\\Lib\\site-packages\\pytorch_forecasting\\data\\timeseries\\_timeseries.py:964: UserWarning: Target scales will be only added for continous targets\n",
      "  warnings.warn(\n",
      "c:\\Users\\Jones\\Desktop\\CBAProj\\venv\\Lib\\site-packages\\pytorch_forecasting\\data\\timeseries\\_timeseries.py:1847: UserWarning: Min encoder length and/or min_prediction_idx and/or min prediction length and/or lags are too large for 3632 series/groups which therefore are not present in the dataset index. This means no predictions can be made for those series. First 10 removed groups: [{'__group_id__CustomerID': 12347.0}, {'__group_id__CustomerID': 12348.0}, {'__group_id__CustomerID': 12349.0}, {'__group_id__CustomerID': 12350.0}, {'__group_id__CustomerID': 12352.0}, {'__group_id__CustomerID': 12354.0}, {'__group_id__CustomerID': 12355.0}, {'__group_id__CustomerID': 12356.0}, {'__group_id__CustomerID': 12357.0}, {'__group_id__CustomerID': 12358.0}]\n",
      "  warnings.warn(\n"
     ]
    }
   ],
   "source": [
    "validation = TimeSeriesDataSet(\n",
    "    validationDataframe,\n",
    "    time_varying_known_reals='time_idx',\n",
    "    time_idx='time_idx',\n",
    "    target='Quantity',\n",
    "    group_ids='CustomerID', #not sure if more data prep can be done to make more use of this\n",
    "    static_categoricals=['Country'],\n",
    "    add_relative_time_idx=True,\n",
    "    add_target_scales=True,\n",
    "    add_encoder_length=True,\n",
    "    allow_missing_timesteps=True,\n",
    ")"
   ]
  },
  {
   "cell_type": "code",
   "execution_count": 8,
   "id": "f20523aa",
   "metadata": {},
   "outputs": [],
   "source": [
    "batchSize = 128\n",
    "trainDataloader = training.to_dataloader(\n",
    "    train=True, batch_size=batchSize, num_workers = 11\n",
    ")\n",
    "validationDataloader = validation.to_dataloader(\n",
    "    train=False, batch_size=batchSize * 10, num_workers = 11\n",
    ")"
   ]
  },
  {
   "cell_type": "code",
   "execution_count": 9,
   "id": "d57b071a",
   "metadata": {},
   "outputs": [
    {
     "name": "stderr",
     "output_type": "stream",
     "text": [
      "Seed set to 42\n",
      "💡 Tip: For seamless cloud uploads and versioning, try installing [litmodels](https://pypi.org/project/litmodels/) to enable LitModelCheckpoint, which syncs automatically with the Lightning model registry.\n",
      "GPU available: True (cuda), used: True\n",
      "TPU available: False, using: 0 TPU cores\n",
      "HPU available: False, using: 0 HPUs\n",
      "c:\\Users\\Jones\\Desktop\\CBAProj\\venv\\Lib\\site-packages\\lightning\\pytorch\\trainer\\connectors\\logger_connector\\logger_connector.py:76: Starting from v1.9.0, `tensorboardX` has been removed as a dependency of the `lightning.pytorch` package, due to potential conflicts with other packages in the ML ecosystem. For this reason, `logger=True` will use `CSVLogger` as the default logger, unless the `tensorboard` or `tensorboardX` packages are found. Please `pip install lightning[extra]` or one of them to enable TensorBoard support by default\n",
      "c:\\Users\\Jones\\Desktop\\CBAProj\\venv\\Lib\\site-packages\\lightning\\pytorch\\utilities\\parsing.py:209: Attribute 'loss' is an instance of `nn.Module` and is already saved during checkpointing. It is recommended to ignore them using `self.save_hyperparameters(ignore=['loss'])`.\n",
      "c:\\Users\\Jones\\Desktop\\CBAProj\\venv\\Lib\\site-packages\\lightning\\pytorch\\utilities\\parsing.py:209: Attribute 'logging_metrics' is an instance of `nn.Module` and is already saved during checkpointing. It is recommended to ignore them using `self.save_hyperparameters(ignore=['logging_metrics'])`.\n"
     ]
    }
   ],
   "source": [
    "pl.seed_everything(42)\n",
    "trainer = pl.Trainer(\n",
    "    accelerator=\"auto\",\n",
    "    gradient_clip_val=0.1,\n",
    ")\n",
    "\n",
    "TFT = TemporalFusionTransformer.from_dataset(\n",
    "    training,\n",
    "    learning_rate = 0.03,\n",
    "    hidden_size=8,\n",
    "    attention_head_size=3,\n",
    "    dropout=0.1,\n",
    "    hidden_continuous_size=8,\n",
    "    loss=QuantileLoss(),\n",
    "    optimizer='ranger',\n",
    ")"
   ]
  },
  {
   "cell_type": "code",
   "execution_count": 10,
   "id": "89e9e0a4",
   "metadata": {},
   "outputs": [
    {
     "name": "stderr",
     "output_type": "stream",
     "text": [
      "c:\\Users\\Jones\\Desktop\\CBAProj\\venv\\Lib\\site-packages\\lightning\\pytorch\\loops\\utilities.py:73: `max_epochs` was not set. Setting it to 1000 epochs. To train without an epoch limit, set `max_epochs=-1`.\n",
      "You are using a CUDA device ('NVIDIA GeForce RTX 3070') that has Tensor Cores. To properly utilize them, you should set `torch.set_float32_matmul_precision('medium' | 'high')` which will trade-off precision for performance. For more details, read https://pytorch.org/docs/stable/generated/torch.set_float32_matmul_precision.html#torch.set_float32_matmul_precision\n",
      "LOCAL_RANK: 0 - CUDA_VISIBLE_DEVICES: [0]\n",
      "c:\\Users\\Jones\\Desktop\\CBAProj\\venv\\Lib\\site-packages\\lightning\\pytorch\\trainer\\connectors\\data_connector.py:420: Consider setting `persistent_workers=True` in 'train_dataloader' to speed up the dataloader worker initialization.\n",
      "c:\\Users\\Jones\\Desktop\\CBAProj\\venv\\Lib\\site-packages\\lightning\\pytorch\\trainer\\connectors\\data_connector.py:420: Consider setting `persistent_workers=True` in 'val_dataloader' to speed up the dataloader worker initialization.\n",
      "Finding best initial lr: 100%|██████████| 100/100 [00:52<00:00,  1.82it/s]`Trainer.fit` stopped: `max_steps=100` reached.\n",
      "Finding best initial lr: 100%|██████████| 100/100 [00:52<00:00,  1.90it/s]\n",
      "Learning rate set to 0.8912509381337452\n",
      "Restoring states from the checkpoint path at c:\\Users\\Jones\\Desktop\\CBAProj\\.lr_find_fbcb89ba-290c-4477-96ed-967fe5dbfb48.ckpt\n",
      "Restored all states from the checkpoint at c:\\Users\\Jones\\Desktop\\CBAProj\\.lr_find_fbcb89ba-290c-4477-96ed-967fe5dbfb48.ckpt\n"
     ]
    },
    {
     "name": "stdout",
     "output_type": "stream",
     "text": [
      "Suggested learning rate  0.8912509381337452\n"
     ]
    },
    {
     "data": {
      "image/png": "[encoded data removed]",
      "text/plain": [
       "<Figure size 640x480 with 1 Axes>"
      ]
     },
     "metadata": {},
     "output_type": "display_data"
    },
    {
     "name": "stderr",
     "output_type": "stream",
     "text": [
      "C:\\Users\\Jones\\AppData\\Local\\Temp\\ipykernel_11056\\21719391.py:10: UserWarning: FigureCanvasAgg is non-interactive, and thus cannot be shown\n",
      "  fig.show()\n"
     ]
    }
   ],
   "source": [
    "res = Tuner(trainer).lr_find(\n",
    "    TFT,\n",
    "    train_dataloaders=trainDataloader,\n",
    "    val_dataloaders=validationDataloader,\n",
    "    max_lr=10.0,\n",
    "    min_lr=1e-6,\n",
    ")\n",
    "print(\"Suggested learning rate \",res.suggestion())\n",
    "fig = res.plot(show=True, suggest=True)\n",
    "fig.show()"
   ]
  }
 ],
 "metadata": {
  "kernelspec": {
   "display_name": "venv",
   "language": "python",
   "name": "python3"
  },
  "language_info": {
   "codemirror_mode": {
    "name": "ipython",
    "version": 3
   },
   "file_extension": ".py",
   "mimetype": "text/x-python",
   "name": "python",
   "nbconvert_exporter": "python",
   "pygments_lexer": "ipython3",
   "version": "3.13.2"
  }
 },
 "nbformat": 4,
 "nbformat_minor": 5
}
